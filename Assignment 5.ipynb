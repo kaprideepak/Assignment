{
 "cells": [
  {
   "cell_type": "markdown",
   "id": "4013fb73",
   "metadata": {},
   "source": [
    "Q1: The Dean of a college wants to examine the effect of internship experience on\n",
    "marketability in the workplace. She takes a random sample of 4 students. For these 4,\n",
    "she finds out how many times each had an internship and how many job offers they\n",
    "received upon graduation. These data are presented in the table below.\n"
   ]
  },
  {
   "cell_type": "markdown",
   "id": "16829cd3",
   "metadata": {},
   "source": [
    "1. What is the independent variable X?\n",
    "\n",
    "a) Internship\n",
    "\n",
    "b) Job Offers\n",
    "\n",
    "c) Marketability in the workplace\n",
    "\n",
    "d) None of the Above\n",
    "\n",
    "\n",
    "\n",
    "Answer : Internship"
   ]
  },
  {
   "cell_type": "markdown",
   "id": "78eeb106",
   "metadata": {},
   "source": [
    "2. Referring to the above data, the estimate of the slope is\n",
    "\n",
    "a) 0.4 \n",
    "\n",
    "b) 2 \n",
    "\n",
    "c) 2.50 \n",
    "\n",
    "d) 5\n",
    "\n",
    "\n",
    "Y = a+b*X\n",
    "Y= 4,x=1(considering row 1)\n",
    "4 = a+b*1....(i)\n",
    "6 = a+b*2....(ii)\n",
    "\n",
    "solving both the equations\n",
    "b = 2\n",
    "\n",
    "Answer: b) 2\n",
    "\n",
    "\n",
    "\n",
    "\n",
    "\n",
    "\n",
    "\n"
   ]
  },
  {
   "cell_type": "markdown",
   "id": "2596758c",
   "metadata": {},
   "source": [
    "\n",
    ".\n",
    "\n",
    "\n",
    "\n",
    "\n",
    "Q2: Score received on an exam measured in \"percentage points\" (Y) is regressed on\n",
    "“percentage attendance” (X) for 22 students in the course Statistics for Data Science.\n",
    "If the Y intercept, b0 = 39.39 and the slope, b1 = 0.341, which of the following\n",
    "statement is correct?\n",
    "\n",
    "Y = a+bX \n",
    "as per above equation correct answer is \n",
    "\n",
    "c) If attendance increases by 1%, the estimated average score received will increase\n",
    "by 0.341 percentage points.\n",
    "\n",
    "\n",
    "\n",
    "\n",
    "."
   ]
  },
  {
   "cell_type": "markdown",
   "id": "c9a33810",
   "metadata": {},
   "source": [
    "Q3. A survey was conducted to see if a relation exists between expenditure on higher\n",
    "education (X), and Salary growth in percentage (Y). The result obtained is summarized\n",
    "in the table. Write down the regression equation."
   ]
  },
  {
   "cell_type": "markdown",
   "id": "cc992acd",
   "metadata": {},
   "source": [
    "byx = r*sigma*y/sigmax\n",
    "byx = 0.43*22.9/63.15\n",
    "byx= 0.156\n",
    "\n",
    "\n",
    "y-ymean = byx(x-xmean)\n",
    "y-178=0.156*x-47.8\n",
    "y= 0.156x+170.54\n"
   ]
  },
  {
   "cell_type": "markdown",
   "id": "b768272a",
   "metadata": {},
   "source": [
    "Q6. Tuck Maintenance:\n",
    "\n",
    "A trucking company wants to predict its yearly maintenance expense for its trucks using\n",
    "miles driven. Its data is saved in the file: MLR_TruckMaintenence.xlsx"
   ]
  },
  {
   "cell_type": "markdown",
   "id": "6dcb830d",
   "metadata": {},
   "source": [
    "Step 1: Calculate X12, X22, X1y, X2y and X1X2.\n",
    "\n",
    "Step 2: Calculate Regression Sums\n",
    "\n",
    "Step 3: Calculate b0, b1, and b2.\n",
    "\n",
    "Step 4:Place b0, b1, and b2 in the estimated linear regression equation.\n",
    "\n",
    "Answer: Y = b0+b1*x1+b2*x2\n",
    "\n",
    "Y= 406.28+0.016*x1+2.38*x2"
   ]
  },
  {
   "cell_type": "code",
   "execution_count": null,
   "id": "27f33082",
   "metadata": {},
   "outputs": [],
   "source": []
  }
 ],
 "metadata": {
  "kernelspec": {
   "display_name": "Python 3 (ipykernel)",
   "language": "python",
   "name": "python3"
  },
  "language_info": {
   "codemirror_mode": {
    "name": "ipython",
    "version": 3
   },
   "file_extension": ".py",
   "mimetype": "text/x-python",
   "name": "python",
   "nbconvert_exporter": "python",
   "pygments_lexer": "ipython3",
   "version": "3.9.12"
  }
 },
 "nbformat": 4,
 "nbformat_minor": 5
}
